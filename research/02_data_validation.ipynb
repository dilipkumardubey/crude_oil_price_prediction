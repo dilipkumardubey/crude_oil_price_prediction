{
 "cells": [
  {
   "cell_type": "markdown",
   "metadata": {},
   "source": [
    "#### Add new component of the Pipelines i.e., Data Validation"
   ]
  },
  {
   "cell_type": "markdown",
   "metadata": {},
   "source": [
    "#### Update the config\n",
    "\n",
    "Update config/config.yaml"
   ]
  },
  {
   "cell_type": "markdown",
   "metadata": {},
   "source": [
    "data_validation:\n",
    "    root_dir: artifacts/data_validation\n",
    "    unzip_data_dir: artifacts/data_ingestion/winequality-red.csv\n",
    "    STATUS_FILE: artifacts/data_validation/status.txt"
   ]
  },
  {
   "cell_type": "markdown",
   "metadata": {},
   "source": [
    "#### Update the schema\n",
    "\n",
    "update the schema.yaml\n",
    "\n",
    "COLUMNS:\n",
    "    fixed acidity: float64\n",
    "    ...\n",
    "    quality: int64\n",
    "\n",
    "TARGET_COLUMN:\n",
    "    name: quality"
   ]
  },
  {
   "cell_type": "code",
   "execution_count": null,
   "metadata": {},
   "outputs": [],
   "source": []
  },
  {
   "cell_type": "markdown",
   "metadata": {},
   "source": [
    "#### Update the entity\n",
    "Update the entity in mlProject/entity/config_entity.py"
   ]
  },
  {
   "cell_type": "code",
   "execution_count": null,
   "metadata": {
    "vscode": {
     "languageId": "plaintext"
    }
   },
   "outputs": [],
   "source": [
    "from dataclasses import dataclass\n",
    "from pathlib import Path\n",
    "\n",
    "@dataclass(frozen=True)\n",
    "class DataValidationConfig:\n",
    "    root_dir: Path\n",
    "    unzip_data_dir: Path\n",
    "    STATUS_FILE: str\n",
    "    all_schema: dict"
   ]
  },
  {
   "cell_type": "markdown",
   "metadata": {},
   "source": [
    "#### Update the ConfigurationManager in src/mlProject/config/configuration.py"
   ]
  },
  {
   "cell_type": "markdown",
   "metadata": {},
   "source": [
    "#### Update the Pipeline"
   ]
  },
  {
   "cell_type": "markdown",
   "metadata": {},
   "source": [
    "try:\n",
    "    config = ConfigurationManager()\n",
    "    data_validation_config = config.get_data_validation_config()\n",
    "    data_validation = DataValidation(config=data_validation_config)\n",
    "    data_validation.validate_all_columns()\n",
    "except Exception as e:\n",
    "    logger.exception(e)\n",
    "    raise e"
   ]
  },
  {
   "cell_type": "markdown",
   "metadata": {},
   "source": [
    "#### Test Case for Data Validation Stage"
   ]
  },
  {
   "cell_type": "code",
   "execution_count": 1,
   "metadata": {},
   "outputs": [
    {
     "name": "stdout",
     "output_type": "stream",
     "text": [
      "Current working directory: D:\\Crude_Oil_Price_Prediction____Color Sketch\\Crude_Oil_Price_Prediction\\crude_oil_price_prediction\n",
      "[2024-04-09 22:12:41,725: INFO: common: yaml file: config\\config.yaml loaded successfully.]\n",
      "[2024-04-09 22:12:41,725: INFO: common: yaml file: params.yaml loaded successfully.]\n",
      "[2024-04-09 22:12:41,733: INFO: common: yaml file: schema.yaml loaded successfully.]\n",
      "[2024-04-09 22:12:41,733: INFO: common: created directory at: artifacts]\n",
      "[2024-04-09 22:12:41,733: INFO: common: created directory at: artifacts/data_validation]\n"
     ]
    }
   ],
   "source": [
    "import os\n",
    "from pathlib import Path\n",
    "import pandas as pd\n",
    "\n",
    "from mlProject.config.configuration import ConfigurationManager\n",
    "from mlProject.utils.common import read_yaml, create_directories\n",
    "from mlProject.entity.config_entity import DataValidationConfig\n",
    "\n",
    "# Change the working directory\n",
    "os.chdir(\"../\")\n",
    "HOME = os.getcwd()\n",
    "print(f\"Current working directory: {HOME}\")\n",
    "\n",
    "# Get Data Validation config\n",
    "config = ConfigurationManager()\n",
    "data_validation_config = config.get_data_validation_config()"
   ]
  },
  {
   "cell_type": "code",
   "execution_count": 2,
   "metadata": {},
   "outputs": [
    {
     "data": {
      "text/plain": [
       "['quality']"
      ]
     },
     "execution_count": 2,
     "metadata": {},
     "output_type": "execute_result"
    }
   ],
   "source": [
    "# Get all columns in schema.yaml\n",
    "all_schema = data_validation_config.all_schema.keys()\n",
    "list(all_schema)"
   ]
  },
  {
   "cell_type": "code",
   "execution_count": 3,
   "metadata": {},
   "outputs": [
    {
     "data": {
      "text/plain": [
       "['fixed acidity',\n",
       " 'volatile acidity',\n",
       " 'citric acid',\n",
       " 'residual sugar',\n",
       " 'chlorides',\n",
       " 'free sulfur dioxide',\n",
       " 'total sulfur dioxide',\n",
       " 'density',\n",
       " 'pH',\n",
       " 'sulphates',\n",
       " 'alcohol',\n",
       " 'quality']"
      ]
     },
     "execution_count": 3,
     "metadata": {},
     "output_type": "execute_result"
    }
   ],
   "source": [
    "# Get all columns in csv\n",
    "data = pd.read_csv(data_validation_config.unzip_data_dir)\n",
    "all_cols = list(data.columns)\n",
    "all_cols"
   ]
  },
  {
   "cell_type": "code",
   "execution_count": 5,
   "metadata": {},
   "outputs": [
    {
     "name": "stdout",
     "output_type": "stream",
     "text": [
      "fixed acidity\n",
      "\n",
      " False\n"
     ]
    }
   ],
   "source": [
    "validation_status = None\n",
    "for col in all_cols:\n",
    "    print(col)\n",
    "    if col not in all_schema:\n",
    "        validation_status = False\n",
    "        break\n",
    "    else:\n",
    "        validation_status = True\n",
    "\n",
    "print('\\n',validation_status)\n",
    "    "
   ]
  },
  {
   "cell_type": "code",
   "execution_count": 29,
   "metadata": {},
   "outputs": [
    {
     "name": "stdout",
     "output_type": "stream",
     "text": [
      "No\n"
     ]
    }
   ],
   "source": [
    "if 'alcohol' in all_schema:\n",
    "    print('Yes')\n",
    "else:\n",
    "    print('No')"
   ]
  },
  {
   "cell_type": "code",
   "execution_count": 10,
   "metadata": {},
   "outputs": [
    {
     "name": "stdout",
     "output_type": "stream",
     "text": [
      "[2024-04-09 22:19:00,295: INFO: main: >>>>>>>> stage Data Ingestion stage started <<<<<<<<]\n",
      "[2024-04-09 22:19:00,295: INFO: common: yaml file: config\\config.yaml loaded successfully.]\n",
      "[2024-04-09 22:19:00,295: INFO: common: yaml file: params.yaml loaded successfully.]\n",
      "[2024-04-09 22:19:00,297: INFO: common: yaml file: schema.yaml loaded successfully.]\n",
      "[2024-04-09 22:19:00,297: INFO: common: created directory at: artifacts]\n",
      "[2024-04-09 22:19:00,297: INFO: common: created directory at: artifacts/data_ingestion]\n",
      "[2024-04-09 22:19:00,297: INFO: data_ingestion: File already exists of size: ~26 KB]\n",
      "[2024-04-09 22:19:00,297: INFO: main: >>>>>>>> stage Data Ingestion stage completed <<<<<<<<\n",
      "\n",
      "X=================X]\n",
      "[2024-04-09 22:19:00,297: INFO: main: >>>>>>>> stage Data Validation stage started <<<<<<<<]\n",
      "[2024-04-09 22:19:00,297: INFO: common: yaml file: config\\config.yaml loaded successfully.]\n",
      "[2024-04-09 22:19:00,297: INFO: common: yaml file: params.yaml loaded successfully.]\n",
      "[2024-04-09 22:19:00,297: INFO: common: yaml file: schema.yaml loaded successfully.]\n",
      "[2024-04-09 22:19:00,297: INFO: common: created directory at: artifacts]\n",
      "[2024-04-09 22:19:00,297: INFO: common: created directory at: artifacts/data_validation]\n",
      "[2024-04-09 22:19:00,308: INFO: main: >>>>>>>> stage Data Validation stage completed <<<<<<<<\n",
      "\n",
      "X=================X]\n"
     ]
    }
   ],
   "source": [
    "!python main.py"
   ]
  },
  {
   "cell_type": "code",
   "execution_count": null,
   "metadata": {},
   "outputs": [],
   "source": []
  }
 ],
 "metadata": {
  "kernelspec": {
   "display_name": "Python 3 (ipykernel)",
   "language": "python",
   "name": "python3"
  },
  "language_info": {
   "codemirror_mode": {
    "name": "ipython",
    "version": 3
   },
   "file_extension": ".py",
   "mimetype": "text/x-python",
   "name": "python",
   "nbconvert_exporter": "python",
   "pygments_lexer": "ipython3",
   "version": "3.10.11"
  }
 },
 "nbformat": 4,
 "nbformat_minor": 4
}
