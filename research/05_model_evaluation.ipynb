{
 "cells": [
  {
   "cell_type": "code",
   "execution_count": 1,
   "id": "fcd3459a-b6e7-4724-a66b-8bd8b68a5b5f",
   "metadata": {},
   "outputs": [
    {
     "name": "stdout",
     "output_type": "stream",
     "text": [
      "Current working directory: D:\\Crude_Oil_Price_Prediction____Color Sketch\\Crude_Oil_Price_Prediction\\crude_oil_price_prediction\n"
     ]
    }
   ],
   "source": [
    "import os \n",
    "os.chdir(\"../\")\n",
    "\n",
    "HOME = os.getcwd()\n",
    "print(f\"Current working directory: {HOME}\")"
   ]
  },
  {
   "cell_type": "markdown",
   "id": "4214bc74-81a2-4711-8e03-22034c67d8af",
   "metadata": {},
   "source": [
    "#### Update the entity\n",
    "\n",
    "mlProject/entity/config_entity.py"
   ]
  },
  {
   "cell_type": "code",
   "execution_count": 3,
   "id": "c6125f64-2733-41bf-8744-d1317cdb4b67",
   "metadata": {},
   "outputs": [],
   "source": [
    "from dataclasses import dataclass\n",
    "from pathlib import Path\n",
    "\n",
    "@dataclass(frozen=True)\n",
    "class ModelEvaluationConfig:\n",
    "    root_dir: Path\n",
    "    test_data_path: Path\n",
    "    model_path: Path\n",
    "    metric_file_name: Path\n",
    "    all_params: dict\n",
    "    target_column: str\n",
    "    mlflow_uri: str"
   ]
  },
  {
   "cell_type": "markdown",
   "id": "59dfaadd-6d62-4256-9a47-ff214a989737",
   "metadata": {},
   "source": [
    "#### Update the ConfigurationManager\n",
    "\n",
    "mlProject/config/configuration.py"
   ]
  },
  {
   "cell_type": "code",
   "execution_count": 12,
   "id": "c61ed491-491a-4fd2-a133-539dfaa25e06",
   "metadata": {},
   "outputs": [],
   "source": [
    "from mlProject.constants import *\n",
    "from mlProject.utils.common import read_yaml, create_directories, save_json\n",
    "# from mlProject.entity.config_entity import ModelEvaluationConfig\n",
    "\n",
    "class ConfigurationManager:\n",
    "    def __init__(\n",
    "        self,\n",
    "        config_file_path=CONFIG_FILE_PATH,\n",
    "        params_file_path=PARAMS_FILE_PATH,\n",
    "        schema_file_path=SCHEMA_FILE_PATH\n",
    "    ):\n",
    "\n",
    "        self.config = read_yaml(config_file_path)\n",
    "        self.params = read_yaml(params_file_path)\n",
    "        self.schema = read_yaml(schema_file_path)\n",
    "\n",
    "        create_directories([self.config.artifacts_root])\n",
    "\n",
    "    def get_model_evaluation_config(self) -> ModelEvaluationConfig:\n",
    "        config = self.config.model_evalution\n",
    "        params = self.params.ElasticNet\n",
    "        schema = self.schema.TARGET_COLUMN\n",
    "\n",
    "        create_directories([config.root_dir])\n",
    "\n",
    "        model_evaluation_config = ModelEvaluationConfig(\n",
    "            root_dir=config.root_dir,\n",
    "            test_data_path=config.test_data_path,\n",
    "            model_path=config.model_path,\n",
    "            metric_file_name=config.metric_file_name,\n",
    "            all_params=params,\n",
    "            target_column=schema.name,\n",
    "            mlflow_uri=\"https://dagshub.com/{}/crude_oil_price_prediction.mlflow\"\n",
    "        )\n",
    "\n",
    "        return model_evaluation_config"
   ]
  },
  {
   "cell_type": "markdown",
   "id": "e7287d49-119c-4624-9226-11bcf36fed24",
   "metadata": {},
   "source": [
    "#### Update the components\n",
    "\n",
    "mlProject/components/model_evaluation.py"
   ]
  },
  {
   "cell_type": "code",
   "execution_count": 16,
   "id": "5ff54950-2e05-4142-a289-aba497769722",
   "metadata": {},
   "outputs": [],
   "source": [
    "import os\n",
    "import pandas as pd\n",
    "import numpy as np\n",
    "import joblib\n",
    "from sklearn.metrics import mean_squared_error, mean_absolute_error, r2_score\n",
    "import mlflow\n",
    "import mlflow.sklearn\n",
    "from urllib.parse import urlparse\n",
    "from pathlib import Path"
   ]
  },
  {
   "cell_type": "code",
   "execution_count": 17,
   "id": "b6fff6f6-ff91-4352-91d5-1ab7fcffa695",
   "metadata": {},
   "outputs": [],
   "source": [
    "# from mlProject.entity.config_entity import ModelEvaluationConfig\n",
    "\n",
    "class ModelEvaluation:\n",
    "\n",
    "    def __init__(self, config: ModelEvaluationConfig):\n",
    "        self.config = config\n",
    "\n",
    "    def eval_metrics(self, actual, pred):\n",
    "        rmse = np.sqrt(mean_squared_error(actual, pred))\n",
    "        mae = mean_absolute_error(actual, pred)\n",
    "        r2 = r2_score(actual, pred)\n",
    "        return rmse, mae, r2\n",
    "\n",
    "    def log_into_mlflow(self):\n",
    "\n",
    "        test_data = pd.read_csv(self.config.test_data_path)\n",
    "        model = joblib.load(self.config.model_path)\n",
    "\n",
    "        test_x = test_data.drop([self.config.target_column], axis=1)\n",
    "        test_y = test_data[[self.config.target_column]]\n",
    "\n",
    "        mlflow.set_registry_uri(self.config.mlflow_uri)\n",
    "        tracking_url_type_store = urlparse(mlflow.get_tracking_uri()).scheme\n",
    "\n",
    "        with mlflow.start_run():\n",
    "\n",
    "            predicted_quantilies = model.predict(test_x)\n",
    "            (rmse, mae, r2) = self.eval_metrics(test_y, predicted_quantilies)\n",
    "\n",
    "            # Saving metrics as local\n",
    "            scores = {\"rmse\":rmse, \"mae\":mae, \"r2\":r2}\n",
    "            save_json(path=Path(self.config.metric_file_name))\n",
    "\n",
    "            mlflow.log_params(self.config.params)\n",
    "\n",
    "            mlflow.log_metric(\"rmse\", rmse)\n",
    "            mlflow.log_metric(\"mae\", mae)\n",
    "            mlflow.log_metric(\"r2\", r2)\n",
    "\n",
    "            # Model registry does not work with file store\n",
    "            if tracking_url_type_store != 'file':\n",
    "                "
   ]
  },
  {
   "cell_type": "code",
   "execution_count": null,
   "id": "844fbb2b-78d4-4e05-ae35-adb2a2025f83",
   "metadata": {},
   "outputs": [],
   "source": []
  }
 ],
 "metadata": {
  "kernelspec": {
   "display_name": "Python 3 (ipykernel)",
   "language": "python",
   "name": "python3"
  },
  "language_info": {
   "codemirror_mode": {
    "name": "ipython",
    "version": 3
   },
   "file_extension": ".py",
   "mimetype": "text/x-python",
   "name": "python",
   "nbconvert_exporter": "python",
   "pygments_lexer": "ipython3",
   "version": "3.10.11"
  }
 },
 "nbformat": 4,
 "nbformat_minor": 5
}
