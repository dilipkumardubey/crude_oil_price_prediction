{
 "cells": [
  {
   "cell_type": "code",
   "execution_count": 1,
   "id": "29dcd2a7-b64f-45a3-bf0e-a60a9551132c",
   "metadata": {},
   "outputs": [
    {
     "name": "stdout",
     "output_type": "stream",
     "text": [
      "Current working directory: D:\\Crude_Oil_Price_Prediction____Color Sketch\\Crude_Oil_Price_Prediction\\crude_oil_price_prediction\n"
     ]
    }
   ],
   "source": [
    "import os\n",
    "\n",
    "os.chdir(\"../\")\n",
    "\n",
    "HOME = os.getcwd()\n",
    "print(f\"Current working directory: {HOME}\")"
   ]
  },
  {
   "cell_type": "markdown",
   "id": "aa5b4111-018e-4f39-a442-2dd321351161",
   "metadata": {},
   "source": [
    "#### Update entity "
   ]
  },
  {
   "cell_type": "code",
   "execution_count": 2,
   "id": "60d886fa-b93a-486d-91d3-72d26b1b3007",
   "metadata": {},
   "outputs": [],
   "source": [
    "from dataclasses import dataclass\n",
    "from pathlib import Path\n",
    "\n",
    "@dataclass(frozen=True)\n",
    "class ModelTrainerConfig:\n",
    "    root_dir: Path\n",
    "    train_data_path: Path\n",
    "    test_data_path: Path\n",
    "    model_name: str\n",
    "    alpha: float\n",
    "    l1_ratio: float\n",
    "    target_column: str"
   ]
  },
  {
   "cell_type": "markdown",
   "id": "53be806f-d6de-4515-b010-117064b2558e",
   "metadata": {},
   "source": [
    "##### Update the params.yaml"
   ]
  },
  {
   "cell_type": "raw",
   "id": "1ceb1e18-da92-4833-ad9a-4a46e6075799",
   "metadata": {},
   "source": [
    "ElasticNet:\n",
    "    alpha: 0.5\n",
    "    l1_ratio: 0.7"
   ]
  },
  {
   "cell_type": "markdown",
   "id": "6e2415cf-b240-4334-8bc4-fa283cc0634a",
   "metadata": {},
   "source": [
    "#### Update the ConfigurationManager\n",
    "\n",
    "mlProject/config/configuration.py"
   ]
  },
  {
   "cell_type": "code",
   "execution_count": 5,
   "id": "17069fe8-1f92-4eb4-80d4-28b4e49ad535",
   "metadata": {},
   "outputs": [],
   "source": [
    "from mlProject.constants import *\n",
    "from mlProject.utils.common import read_yaml, create_directories\n",
    "\n",
    "# from mlProject.entity.config_entity import ModelTrainerConfig\n",
    "\n",
    "class ConfigurationManager:\n",
    "\n",
    "    def __init__(\n",
    "        self,\n",
    "        config_file_path=CONFIG_FILE_PATH,\n",
    "        params_file_path=PARAMS_FILE_PATH,\n",
    "        schema_file_path=SCHEMA_FILE_PATH\n",
    "    ):\n",
    "        self.config = read_yaml(config_file_path)\n",
    "        self.params = read_yaml(params_file_path)\n",
    "        self.schema = read_yaml(schema_file_path)\n",
    "\n",
    "        create_directories([self.config.artifacts_root])\n",
    "\n",
    "    def get_model_trainer_config(self) -> ModelTrainerConfig:\n",
    "        config = self.config.model_trainer\n",
    "        params = self.params.ElasticNet\n",
    "        schema = self.schema.TARGET_COLUMN\n",
    "        \n",
    "        create_directories([config.root_dir])\n",
    "        \n",
    "        model_trainer_config = ModelTrainerConfig(\n",
    "            root_dir=config.root_dir,\n",
    "            train_data_path=config.train_data_path,\n",
    "            test_data_path=config.test_data_path,\n",
    "            model_name=config.model_name,\n",
    "            alpha=params.alpha,\n",
    "            l1_ratio=params.l1_ratio,\n",
    "            target_column=schema.name\n",
    "        )\n",
    "        return model_trainer_config"
   ]
  },
  {
   "cell_type": "markdown",
   "id": "a10a43f2-d651-4bd9-b640-c8c488a43fde",
   "metadata": {},
   "source": [
    "#### Update the components\n",
    "\n",
    "mlProject/components/model_trainer.py"
   ]
  },
  {
   "cell_type": "code",
   "execution_count": 43,
   "id": "ce158169-faf3-4098-907e-66530f19787c",
   "metadata": {},
   "outputs": [],
   "source": [
    "import os\n",
    "import pandas as pd\n",
    "from sklearn.linear_model import ElasticNet\n",
    "from mlProject import logger\n",
    "import joblib\n",
    "\n",
    "class ModelTrainer:\n",
    "    def __init__(self, config: ModelTrainerConfig):\n",
    "        self.config = config\n",
    "\n",
    "    def train(self):\n",
    "        # Define the training and test csv\n",
    "        train_data = pd.read_csv(self.config.train_data_path)\n",
    "        test_data = pd.read_csv(self.config.test_data_path)\n",
    "\n",
    "        # Drop the Target column from train and test csv data\n",
    "        train_x = train_data.drop([self.config.target_column], axis=1)\n",
    "        test_x = test_data.drop([self.config.target_column], axis=1)\n",
    "\n",
    "        # Assign the target\n",
    "        train_y = train_data[[self.config.target_column]]\n",
    "        test_y = test_data[[self.config.target_column]]\n",
    "\n",
    "        # Train\n",
    "        lr = ElasticNet(alpha=self.config.alpha,\n",
    "                        l1_ratio=self.config.l1_ratio,\n",
    "                        random_state=42 )\n",
    "        lr.fit(train_x, train_y)\n",
    "\n",
    "        # Save trained model\n",
    "        joblib.dump(lr, os.path.join(self.config.root_dir, self.config.model_name))\n",
    "        logger.info(f\"\")"
   ]
  },
  {
   "cell_type": "markdown",
   "id": "9efcb81a-9030-45ec-8b18-2a891decb2c7",
   "metadata": {},
   "source": [
    "#### Update the Pipeline\n",
    "\n",
    "mlProject/pipeline/stage_04_model_trainer.py"
   ]
  },
  {
   "cell_type": "code",
   "execution_count": 44,
   "id": "a8bc10df-6f41-46f2-a440-18fb868699f4",
   "metadata": {},
   "outputs": [
    {
     "name": "stdout",
     "output_type": "stream",
     "text": [
      "[2024-04-10 22:26:02,668: INFO: common: yaml file: config\\config.yaml loaded successfully.]\n",
      "[2024-04-10 22:26:02,668: INFO: common: yaml file: params.yaml loaded successfully.]\n",
      "[2024-04-10 22:26:02,668: INFO: common: yaml file: schema.yaml loaded successfully.]\n",
      "[2024-04-10 22:26:02,668: INFO: common: created directory at: artifacts]\n",
      "[2024-04-10 22:26:02,668: INFO: common: created directory at: artifacts/model_trainer]\n",
      "[2024-04-10 22:26:03,178: INFO: 973666313: ]\n"
     ]
    }
   ],
   "source": [
    "try:\n",
    "    config = ConfigurationManager()\n",
    "    model_trainer_config = config.get_model_trainer_config()\n",
    "    model_trainer = ModelTrainer(config=model_trainer_config)\n",
    "    model_trainer.train()\n",
    "except Exception as e:\n",
    "    logger.exception(e)\n",
    "    raise e"
   ]
  },
  {
   "cell_type": "code",
   "execution_count": 48,
   "id": "cc17dac4-611a-4a19-ac8d-5bd596e06134",
   "metadata": {},
   "outputs": [
    {
     "name": "stdout",
     "output_type": "stream",
     "text": [
      "[2024-04-10 22:54:17,504: INFO: stage_04_model_trainer: >>>>>>>> stage Model Trainer stage started <<<<<<<<]\n",
      "[2024-04-10 22:54:17,504: INFO: common: yaml file: config\\config.yaml loaded successfully.]\n",
      "[2024-04-10 22:54:17,504: INFO: common: yaml file: params.yaml loaded successfully.]\n",
      "[2024-04-10 22:54:17,504: INFO: common: yaml file: schema.yaml loaded successfully.]\n",
      "[2024-04-10 22:54:17,504: INFO: common: created directory at: artifacts]\n",
      "[2024-04-10 22:54:17,504: INFO: common: created directory at: artifacts/model_trainer]\n",
      "[2024-04-10 22:54:17,520: INFO: stage_04_model_trainer: >>>>>>>> stage Model Trainer stage completed <<<<<<<<\n",
      "\n",
      "X===========X]\n"
     ]
    }
   ],
   "source": [
    "%pwd\n",
    "!python ./src/mlProject/pipeline/stage_04_model_trainer.py "
   ]
  },
  {
   "cell_type": "code",
   "execution_count": 50,
   "id": "702edd52-3522-401c-9b5e-11cb24585971",
   "metadata": {},
   "outputs": [
    {
     "name": "stdout",
     "output_type": "stream",
     "text": [
      "[2024-04-10 22:57:00,233: INFO: main: >>>>>>>> stage Data Ingestion stage started <<<<<<<<]\n",
      "[2024-04-10 22:57:00,233: INFO: common: yaml file: config\\config.yaml loaded successfully.]\n",
      "[2024-04-10 22:57:00,233: INFO: common: yaml file: params.yaml loaded successfully.]\n",
      "[2024-04-10 22:57:00,248: INFO: common: yaml file: schema.yaml loaded successfully.]\n",
      "[2024-04-10 22:57:00,248: INFO: common: created directory at: artifacts]\n",
      "[2024-04-10 22:57:00,248: INFO: common: created directory at: artifacts/data_ingestion]\n",
      "[2024-04-10 22:57:01,334: INFO: data_ingestion: artifacts/data_ingestion/data.zip downloaded! with following info Connection: close\n",
      "Content-Length: 26176\n",
      "Cache-Control: max-age=300\n",
      "Content-Security-Policy: default-src 'none'; style-src 'unsafe-inline'; sandbox\n",
      "Content-Type: application/zip\n",
      "ETag: \"f751ec0917e15a3dc07c3094a49fb99713109dd8a9f29150bb5d187ec17facdf\"\n",
      "Strict-Transport-Security: max-age=31536000\n",
      "X-Content-Type-Options: nosniff\n",
      "X-Frame-Options: deny\n",
      "X-XSS-Protection: 1; mode=block\n",
      "X-GitHub-Request-Id: 0AEA:3C2CA3:56EE13:6EDF86:6616CBE3\n",
      "Accept-Ranges: bytes\n",
      "Date: Wed, 10 Apr 2024 17:27:00 GMT\n",
      "Via: 1.1 varnish\n",
      "X-Served-By: cache-hyd1100030-HYD\n",
      "X-Cache: MISS\n",
      "X-Cache-Hits: 0\n",
      "X-Timer: S1712770021.594009,VS0,VE302\n",
      "Vary: Authorization,Accept-Encoding,Origin\n",
      "Access-Control-Allow-Origin: *\n",
      "Cross-Origin-Resource-Policy: cross-origin\n",
      "X-Fastly-Request-ID: 91aac8f3c733d8ff7dc297fb318d5be233102204\n",
      "Expires: Wed, 10 Apr 2024 17:32:00 GMT\n",
      "Source-Age: 0\n",
      "\n",
      "]\n",
      "[2024-04-10 22:57:01,334: INFO: main: >>>>>>>> stage Data Ingestion stage completed <<<<<<<<\n",
      "\n",
      "X=================X]\n",
      "[2024-04-10 22:57:01,334: INFO: main: >>>>>>>> stage Data Validation stage started <<<<<<<<]\n",
      "[2024-04-10 22:57:01,334: INFO: common: yaml file: config\\config.yaml loaded successfully.]\n",
      "[2024-04-10 22:57:01,334: INFO: common: yaml file: params.yaml loaded successfully.]\n",
      "[2024-04-10 22:57:01,334: INFO: common: yaml file: schema.yaml loaded successfully.]\n",
      "[2024-04-10 22:57:01,334: INFO: common: created directory at: artifacts]\n",
      "[2024-04-10 22:57:01,334: INFO: common: created directory at: artifacts/data_validation]\n",
      "[2024-04-10 22:57:01,350: INFO: main: >>>>>>>> stage Data Validation stage completed <<<<<<<<\n",
      "\n",
      "X=================X]\n",
      "[2024-04-10 22:57:01,350: INFO: main: >>>>>>>> stage Data Transformation stage started <<<<<<<<]\n",
      "[2024-04-10 22:57:01,350: INFO: common: yaml file: config\\config.yaml loaded successfully.]\n",
      "[2024-04-10 22:57:01,350: INFO: common: yaml file: params.yaml loaded successfully.]\n",
      "[2024-04-10 22:57:01,350: INFO: common: yaml file: schema.yaml loaded successfully.]\n",
      "[2024-04-10 22:57:01,350: INFO: common: created directory at: artifacts]\n",
      "[2024-04-10 22:57:01,350: INFO: common: created directory at: artifacts/data_transformation]\n",
      "[2024-04-10 22:57:01,365: INFO: data_transformation: Splited data into training and test sets.]\n",
      "[2024-04-10 22:57:01,365: INFO: data_transformation: (1199, 12)]\n",
      "[2024-04-10 22:57:01,365: INFO: data_transformation: (400, 12)]\n",
      "[2024-04-10 22:57:01,365: INFO: main: >>>>>>>> stage Data Transformation stage completed <<<<<<<<\n",
      "\n",
      "X=================X]\n",
      "[2024-04-10 22:57:01,365: INFO: main: >>>>>>>> stage Model Trainer stage started <<<<<<<<]\n",
      "[2024-04-10 22:57:01,365: INFO: common: yaml file: config\\config.yaml loaded successfully.]\n",
      "[2024-04-10 22:57:01,365: INFO: common: yaml file: params.yaml loaded successfully.]\n",
      "[2024-04-10 22:57:01,365: INFO: common: yaml file: schema.yaml loaded successfully.]\n",
      "[2024-04-10 22:57:01,365: INFO: common: created directory at: artifacts]\n",
      "[2024-04-10 22:57:01,365: INFO: common: created directory at: artifacts/model_trainer]\n",
      "[2024-04-10 22:57:01,385: INFO: main: >>>>>>>> stage Model Trainer stage completed <<<<<<<<\n",
      "\n",
      "X=================X]\n"
     ]
    }
   ],
   "source": [
    "!python main.py"
   ]
  },
  {
   "cell_type": "code",
   "execution_count": null,
   "id": "12df4dfc-b474-46ec-a4fb-ae1edeaa6d4a",
   "metadata": {},
   "outputs": [],
   "source": []
  }
 ],
 "metadata": {
  "kernelspec": {
   "display_name": "Python 3 (ipykernel)",
   "language": "python",
   "name": "python3"
  },
  "language_info": {
   "codemirror_mode": {
    "name": "ipython",
    "version": 3
   },
   "file_extension": ".py",
   "mimetype": "text/x-python",
   "name": "python",
   "nbconvert_exporter": "python",
   "pygments_lexer": "ipython3",
   "version": "3.10.11"
  }
 },
 "nbformat": 4,
 "nbformat_minor": 5
}
