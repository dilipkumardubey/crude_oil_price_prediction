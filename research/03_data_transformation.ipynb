{
 "cells": [
  {
   "cell_type": "code",
   "execution_count": 1,
   "id": "e9e7a5bd-662a-4f17-8e74-607dd43e83fe",
   "metadata": {},
   "outputs": [
    {
     "name": "stdout",
     "output_type": "stream",
     "text": [
      "Current working directory: D:\\Crude_Oil_Price_Prediction____Color Sketch\\Crude_Oil_Price_Prediction\\crude_oil_price_prediction\n"
     ]
    }
   ],
   "source": [
    "import os\n",
    "\n",
    "# Change the working directory\n",
    "os.chdir(\"../\")\n",
    "HOME = os.getcwd()\n",
    "print(f\"Current working directory: {HOME}\")"
   ]
  },
  {
   "cell_type": "markdown",
   "id": "037c3d6a-6210-4523-823e-5fdf0102aba4",
   "metadata": {},
   "source": [
    "#### Add the component configuration in config/config.yaml\n",
    "\n",
    "#### Update the entity"
   ]
  },
  {
   "cell_type": "code",
   "execution_count": 17,
   "id": "2f564f30-3f7f-474a-b83b-3bf9f492b0df",
   "metadata": {},
   "outputs": [],
   "source": [
    "from dataclasses import dataclass\n",
    "from pathlib import Path\n",
    "\n",
    "@dataclass(frozen=True)\n",
    "class DataIngestionConfig:\n",
    "    root_dir: Path\n",
    "    source_URL: str\n",
    "    local_data_file: Path\n",
    "    unzip_dir: Path\n",
    "    \n",
    "@dataclass(frozen=True)\n",
    "class DataValidationConfig:\n",
    "    root_dir: Path\n",
    "    unzip_data_dir: Path\n",
    "    STATUS_FILE: str\n",
    "    all_schema: dict\n",
    "    \n",
    "@dataclass(frozen=True)\n",
    "class DataTransformationConfig:\n",
    "    root_dir: Path\n",
    "    data_path: Path"
   ]
  },
  {
   "cell_type": "markdown",
   "id": "3881dd10-4f62-465d-a1be-75b701c56fa1",
   "metadata": {},
   "source": [
    "#### Update configuraion manager in src/mlProject/config/configuration"
   ]
  },
  {
   "cell_type": "code",
   "execution_count": 26,
   "id": "e53567a6-db55-49b0-9443-ee4d252c470c",
   "metadata": {},
   "outputs": [],
   "source": [
    "from mlProject.constants import *\n",
    "from mlProject.utils.common import read_yaml, create_directories\n",
    "from mlProject import logger\n",
    "\n",
    "from mlProject.entity.config_entity import DataIngestionConfig, DataValidationConfig, DataValidationConfig\n",
    "class ConfigurationManager:\n",
    "    def __init__(\n",
    "        self,\n",
    "        config_filepath=CONFIG_FILE_PATH,\n",
    "        params_filepath=PARAMS_FILE_PATH,\n",
    "        schema_filepath=SCHEMA_FILE_PATH\n",
    "    ):\n",
    "        self.config = read_yaml(config_filepath)\n",
    "        self.params = read_yaml(params_filepath)\n",
    "        self.schema = read_yaml(schema_filepath)\n",
    "\n",
    "        create_directories([self.config.artifacts_root])\n",
    "\n",
    "    def get_data_ingestion_config(self) -> DataIngestionConfig:\n",
    "        config = self.config.data_ingestion\n",
    "        create_directories([config.root_dir])\n",
    "        \n",
    "        data_ingestion_config = DataIngestionConfig(\n",
    "            root_dir=config.root_dir,\n",
    "            source_URL=config.source_URL,\n",
    "            local_data_file=config.local_data_file,\n",
    "            unzip_dir=config.unzip_dir\n",
    "        )\n",
    "\n",
    "        return data_ingestion_config\n",
    "\n",
    "    def get_data_validation_config(self) -> DataValidationConfig:\n",
    "        config = self.config.data_validation\n",
    "        schema = self.schema.COLUMNS\n",
    "        create_directories([config.root_dir])\n",
    "        \n",
    "        data_validation_config = DataValidationConfig(\n",
    "            root_dir=config.root_dir,\n",
    "            unzip_data_dir=config.unzip_data_dir,\n",
    "            STATUS_FILE=config.STATUS_FILE,\n",
    "            all_schema=schema\n",
    "        )\n",
    "        return data_validation_config\n",
    "\n",
    "    def get_data_transformation_config(self) -> DataTransformationConfig:\n",
    "        config = self.config.data_transformation\n",
    "\n",
    "        create_directories([config.root_dir])\n",
    "        data_transformation_config = DataValidationConfig(\n",
    "            root_dir=config.root_dir,\n",
    "            data_path=config.data_path\n",
    "        )\n",
    "        \n",
    "        return data_transformation_config"
   ]
  },
  {
   "cell_type": "code",
   "execution_count": 25,
   "id": "8f11d150-a97e-4e46-bd56-a113e0a9829d",
   "metadata": {},
   "outputs": [
    {
     "name": "stdout",
     "output_type": "stream",
     "text": [
      "[2024-04-09 23:41:14,765: INFO: common: yaml file: config\\config.yaml loaded successfully.]\n",
      "[2024-04-09 23:41:14,765: INFO: common: yaml file: params.yaml loaded successfully.]\n",
      "[2024-04-09 23:41:14,765: INFO: common: yaml file: schema.yaml loaded successfully.]\n",
      "[2024-04-09 23:41:14,781: INFO: common: created directory at: artifacts]\n"
     ]
    }
   ],
   "source": [
    "config = ConfigurationManager()"
   ]
  },
  {
   "cell_type": "code",
   "execution_count": 23,
   "id": "fe634d81-18b0-4cfc-8094-b13cdea43e16",
   "metadata": {},
   "outputs": [
    {
     "name": "stdout",
     "output_type": "stream",
     "text": [
      "[2024-04-09 23:39:30,611: INFO: common: created directory at: artifacts/data_transformation]\n"
     ]
    },
    {
     "ename": "TypeError",
     "evalue": "DataValidationConfig.__init__() got an unexpected keyword argument 'data_path'",
     "output_type": "error",
     "traceback": [
      "\u001b[1;31m---------------------------------------------------------------------------\u001b[0m",
      "\u001b[1;31mTypeError\u001b[0m                                 Traceback (most recent call last)",
      "Cell \u001b[1;32mIn[23], line 1\u001b[0m\n\u001b[1;32m----> 1\u001b[0m data_transformation_config \u001b[38;5;241m=\u001b[39m \u001b[43mconfig\u001b[49m\u001b[38;5;241;43m.\u001b[39;49m\u001b[43mget_data_transformation_config\u001b[49m\u001b[43m(\u001b[49m\u001b[43m)\u001b[49m\n",
      "Cell \u001b[1;32mIn[21], line 49\u001b[0m, in \u001b[0;36mConfigurationManager.get_data_transformation_config\u001b[1;34m(self)\u001b[0m\n\u001b[0;32m     46\u001b[0m config \u001b[38;5;241m=\u001b[39m \u001b[38;5;28mself\u001b[39m\u001b[38;5;241m.\u001b[39mconfig\u001b[38;5;241m.\u001b[39mdata_transformation\n\u001b[0;32m     48\u001b[0m create_directories([config\u001b[38;5;241m.\u001b[39mroot_dir])\n\u001b[1;32m---> 49\u001b[0m data_transformation_config \u001b[38;5;241m=\u001b[39m \u001b[43mDataValidationConfig\u001b[49m\u001b[43m(\u001b[49m\n\u001b[0;32m     50\u001b[0m \u001b[43m    \u001b[49m\u001b[43mroot_dir\u001b[49m\u001b[38;5;241;43m=\u001b[39;49m\u001b[43mconfig\u001b[49m\u001b[38;5;241;43m.\u001b[39;49m\u001b[43mroot_dir\u001b[49m\u001b[43m,\u001b[49m\n\u001b[0;32m     51\u001b[0m \u001b[43m    \u001b[49m\u001b[43mdata_path\u001b[49m\u001b[38;5;241;43m=\u001b[39;49m\u001b[43mconfig\u001b[49m\u001b[38;5;241;43m.\u001b[39;49m\u001b[43mdata_path\u001b[49m\n\u001b[0;32m     52\u001b[0m \u001b[43m\u001b[49m\u001b[43m)\u001b[49m\n\u001b[0;32m     54\u001b[0m \u001b[38;5;28;01mreturn\u001b[39;00m data_transformation_config\n",
      "\u001b[1;31mTypeError\u001b[0m: DataValidationConfig.__init__() got an unexpected keyword argument 'data_path'"
     ]
    }
   ],
   "source": [
    "data_transformation_config = config.get_data_transformation_config()"
   ]
  },
  {
   "cell_type": "markdown",
   "id": "18f71f3a-111a-4a1f-be51-97837f76eba9",
   "metadata": {},
   "source": [
    "#### Update the component\n",
    "\n",
    "mlProject/components/data_transformation.py"
   ]
  },
  {
   "cell_type": "code",
   "execution_count": 13,
   "id": "50be46a4-1024-4a9d-8677-51f100dab6db",
   "metadata": {},
   "outputs": [],
   "source": [
    "import os\n",
    "import pandas as pd\n",
    "from sklearn.model_selection import train_test_split\n",
    "from mlProject import logger\n",
    "\n",
    "class DataTransformation:\n",
    "    def __init__(self, config: DataTransformationConfig):\n",
    "        self.config = config\n",
    "\n",
    "    def train_test_spliting(self):\n",
    "        \n",
    "        # Read the csv file data \n",
    "        data = pd.read_csv(self.config.data_path)\n",
    "        \n",
    "        # Split the data into training and test sets. (0.75, 0.25)\n",
    "        train, test = train_test_split(data, test_size=0.25)\n",
    "\n",
    "        # Save train.csv and test.csv into artifacts/data_transformation\n",
    "        train.to_csv(os.path.join(self.config.root_dir, \"train.csv\"), index=False)\n",
    "        test.to_csv(os.path.join(self.config.root_dir, \"test.csv\"), index=False)\n",
    "\n",
    "        logger.info(\"Splited data into training and test sets.\")\n",
    "        logger.info(train.shape)\n",
    "        logger.info(test.shape)\n",
    "\n",
    "        print(train.shape)\n",
    "        print(test.shape)"
   ]
  },
  {
   "cell_type": "markdown",
   "id": "dd7232d5-a43d-47d6-a181-d37b87366b94",
   "metadata": {},
   "source": [
    "#### Update the Pipeline\n",
    "\n",
    "mlProject/pipeline/stage_03_data_transformation.py"
   ]
  },
  {
   "cell_type": "code",
   "execution_count": 1,
   "id": "4440d0db-6b32-4876-b09b-aa9547b79ad3",
   "metadata": {},
   "outputs": [
    {
     "name": "stdout",
     "output_type": "stream",
     "text": [
      "[2024-04-09 23:57:46,962: INFO: common: yaml file: config\\config.yaml loaded successfully.]\n",
      "[2024-04-09 23:57:46,964: INFO: common: yaml file: params.yaml loaded successfully.]\n",
      "[2024-04-09 23:57:46,964: INFO: common: yaml file: schema.yaml loaded successfully.]\n",
      "[2024-04-09 23:57:46,964: INFO: common: created directory at: artifacts]\n",
      "[2024-04-09 23:57:46,964: INFO: common: created directory at: artifacts/data_transformation]\n",
      "[2024-04-09 23:57:47,145: INFO: data_transformation: Splited data into training and test sets.]\n",
      "[2024-04-09 23:57:47,145: INFO: data_transformation: (1199, 12)]\n",
      "[2024-04-09 23:57:47,145: INFO: data_transformation: (400, 12)]\n"
     ]
    }
   ],
   "source": [
    "import os\n",
    "os.chdir(\"../\")\n",
    "\n",
    "from mlProject.config.configuration import ConfigurationManager\n",
    "from mlProject.components.data_transformation import DataTransformation\n",
    "from mlProject import logger\n",
    "try:\n",
    "    config = ConfigurationManager()\n",
    "    data_transformation_config = config.get_data_transformation_config()\n",
    "    data_transformation = DataTransformation(config=data_transformation_config)\n",
    "    data_transformation.train_test_spliting()\n",
    "except Exception as e:\n",
    "    logger.exception(e)\n",
    "    raise e"
   ]
  },
  {
   "cell_type": "code",
   "execution_count": 3,
   "id": "2fd558f8-b372-4cb0-b4f8-43423c4f4d6f",
   "metadata": {},
   "outputs": [
    {
     "data": {
      "text/plain": [
       "'D:\\\\Crude_Oil_Price_Prediction____Color Sketch\\\\Crude_Oil_Price_Prediction\\\\crude_oil_price_prediction\\\\research'"
      ]
     },
     "execution_count": 3,
     "metadata": {},
     "output_type": "execute_result"
    }
   ],
   "source": [
    "import os\n",
    "os.getcwd()"
   ]
  },
  {
   "cell_type": "code",
   "execution_count": 2,
   "id": "0749ab24-dba5-44d0-93d3-1c83fed5b288",
   "metadata": {},
   "outputs": [
    {
     "name": "stdout",
     "output_type": "stream",
     "text": [
      "[2024-04-09 23:54:14,573: INFO: common: yaml file: config\\config.yaml loaded successfully.]\n",
      "[2024-04-09 23:54:14,573: INFO: common: yaml file: params.yaml loaded successfully.]\n",
      "[2024-04-09 23:54:14,589: INFO: common: yaml file: schema.yaml loaded successfully.]\n",
      "[2024-04-09 23:54:14,590: INFO: common: created directory at: artifacts]\n",
      "[2024-04-09 23:54:14,591: INFO: common: created directory at: artifacts/data_ingestion]\n"
     ]
    }
   ],
   "source": [
    "config = ConfigurationManager()\n",
    "data_ingestion_config = config.get_data_ingestion_config()"
   ]
  },
  {
   "cell_type": "code",
   "execution_count": 3,
   "id": "7cc78a4b-57e3-4a43-b8a0-2f78ea45a7fd",
   "metadata": {},
   "outputs": [
    {
     "name": "stdout",
     "output_type": "stream",
     "text": [
      "[2024-04-09 23:54:35,855: INFO: common: created directory at: artifacts/data_validation]\n"
     ]
    }
   ],
   "source": [
    "data_validation_config =config.get_data_validation_config()"
   ]
  },
  {
   "cell_type": "code",
   "execution_count": 4,
   "id": "25a7dc55-ba58-4301-a900-555fc6cc5c82",
   "metadata": {},
   "outputs": [
    {
     "name": "stdout",
     "output_type": "stream",
     "text": [
      "[2024-04-09 23:54:54,804: INFO: common: created directory at: artifacts/data_transformation]\n"
     ]
    },
    {
     "ename": "TypeError",
     "evalue": "DataValidationConfig.__init__() got an unexpected keyword argument 'data_path'",
     "output_type": "error",
     "traceback": [
      "\u001b[1;31m-----------------------------------------------------------------------\u001b[0m",
      "\u001b[1;31mTypeError\u001b[0m                             Traceback (most recent call last)",
      "Cell \u001b[1;32mIn[4], line 1\u001b[0m\n\u001b[1;32m----> 1\u001b[0m data_transformation_config \u001b[38;5;241m=\u001b[39m \u001b[43mconfig\u001b[49m\u001b[38;5;241;43m.\u001b[39;49m\u001b[43mget_data_transformation_config\u001b[49m\u001b[43m(\u001b[49m\u001b[43m)\u001b[49m\n",
      "File \u001b[1;32md:\\crude_oil_price_prediction____color sketch\\crude_oil_price_prediction\\crude_oil_price_prediction\\src\\mlProject\\config\\configuration.py:55\u001b[0m, in \u001b[0;36mConfigurationManager.get_data_transformation_config\u001b[1;34m(self)\u001b[0m\n\u001b[0;32m     51\u001b[0m config \u001b[38;5;241m=\u001b[39m \u001b[38;5;28mself\u001b[39m\u001b[38;5;241m.\u001b[39mconfig\u001b[38;5;241m.\u001b[39mdata_transformation\n\u001b[0;32m     53\u001b[0m create_directories([config\u001b[38;5;241m.\u001b[39mroot_dir])\n\u001b[1;32m---> 55\u001b[0m data_transformation_config \u001b[38;5;241m=\u001b[39m \u001b[43mDataValidationConfig\u001b[49m\u001b[43m(\u001b[49m\n\u001b[0;32m     56\u001b[0m \u001b[43m    \u001b[49m\u001b[43mroot_dir\u001b[49m\u001b[38;5;241;43m=\u001b[39;49m\u001b[43mconfig\u001b[49m\u001b[38;5;241;43m.\u001b[39;49m\u001b[43mroot_dir\u001b[49m\u001b[43m,\u001b[49m\n\u001b[0;32m     57\u001b[0m \u001b[43m    \u001b[49m\u001b[43mdata_path\u001b[49m\u001b[38;5;241;43m=\u001b[39;49m\u001b[43mconfig\u001b[49m\u001b[38;5;241;43m.\u001b[39;49m\u001b[43mdata_path\u001b[49m\n\u001b[0;32m     58\u001b[0m \u001b[43m\u001b[49m\u001b[43m)\u001b[49m\n\u001b[0;32m     60\u001b[0m \u001b[38;5;28;01mreturn\u001b[39;00m data_transformation_config\n",
      "\u001b[1;31mTypeError\u001b[0m: DataValidationConfig.__init__() got an unexpected keyword argument 'data_path'"
     ]
    }
   ],
   "source": [
    "data_transformation_config = config.get_data_transformation_config()"
   ]
  },
  {
   "cell_type": "code",
   "execution_count": 5,
   "id": "31fc1932-2430-4945-a86c-322857a5e4d1",
   "metadata": {},
   "outputs": [
    {
     "name": "stdout",
     "output_type": "stream",
     "text": [
      "[2024-04-10 00:07:31,621: INFO: stage_03_data_transformation: >>>>>>>> stage Data Transformation stage started <<<<<<<<]\n",
      "[2024-04-10 00:07:31,621: INFO: common: yaml file: config\\config.yaml loaded successfully.]\n",
      "[2024-04-10 00:07:31,621: INFO: common: yaml file: params.yaml loaded successfully.]\n",
      "[2024-04-10 00:07:31,621: INFO: common: yaml file: schema.yaml loaded successfully.]\n",
      "[2024-04-10 00:07:31,621: INFO: common: created directory at: artifacts]\n",
      "[2024-04-10 00:07:31,621: INFO: common: created directory at: artifacts/data_transformation]\n",
      "[2024-04-10 00:07:31,653: INFO: data_transformation: Splited data into training and test sets.]\n",
      "[2024-04-10 00:07:31,653: INFO: data_transformation: (1199, 12)]\n",
      "[2024-04-10 00:07:31,653: INFO: data_transformation: (400, 12)]\n",
      "[2024-04-10 00:07:31,653: INFO: stage_03_data_transformation: >>>>>>>> stage Data Transformation stage completed <<<<<<<<\n",
      "\n",
      "X==================sX]\n"
     ]
    }
   ],
   "source": [
    "!python ./src/mlProject/pipeline/stage_03_data_transformation.py"
   ]
  },
  {
   "cell_type": "code",
   "execution_count": 7,
   "id": "aaa7dc35-4462-4e15-b02c-8d6f2c708eae",
   "metadata": {},
   "outputs": [
    {
     "name": "stdout",
     "output_type": "stream",
     "text": [
      "[2024-04-10 00:18:50,729: INFO: main: >>>>>>>> stage Data Ingestion stage started <<<<<<<<]\n",
      "[2024-04-10 00:18:50,737: INFO: common: yaml file: config\\config.yaml loaded successfully.]\n",
      "[2024-04-10 00:18:50,737: INFO: common: yaml file: params.yaml loaded successfully.]\n",
      "[2024-04-10 00:18:50,739: INFO: common: yaml file: schema.yaml loaded successfully.]\n",
      "[2024-04-10 00:18:50,739: INFO: common: created directory at: artifacts]\n",
      "[2024-04-10 00:18:50,739: INFO: common: created directory at: artifacts/data_ingestion]\n",
      "[2024-04-10 00:18:51,486: INFO: data_ingestion: artifacts/data_ingestion/data.zip downloaded! with following info Connection: close\n",
      "Content-Length: 26176\n",
      "Cache-Control: max-age=300\n",
      "Content-Security-Policy: default-src 'none'; style-src 'unsafe-inline'; sandbox\n",
      "Content-Type: application/zip\n",
      "ETag: \"f751ec0917e15a3dc07c3094a49fb99713109dd8a9f29150bb5d187ec17facdf\"\n",
      "Strict-Transport-Security: max-age=31536000\n",
      "X-Content-Type-Options: nosniff\n",
      "X-Frame-Options: deny\n",
      "X-XSS-Protection: 1; mode=block\n",
      "X-GitHub-Request-Id: D906:3482E2:55DBAC:6E092B:66158D91\n",
      "Accept-Ranges: bytes\n",
      "Date: Tue, 09 Apr 2024 18:48:50 GMT\n",
      "Via: 1.1 varnish\n",
      "X-Served-By: cache-hyd1100035-HYD\n",
      "X-Cache: MISS\n",
      "X-Cache-Hits: 0\n",
      "X-Timer: S1712688530.117106,VS0,VE290\n",
      "Vary: Authorization,Accept-Encoding,Origin\n",
      "Access-Control-Allow-Origin: *\n",
      "Cross-Origin-Resource-Policy: cross-origin\n",
      "X-Fastly-Request-ID: b93a1621da8fb2ca7c1c2d10eb7d948bc3842302\n",
      "Expires: Tue, 09 Apr 2024 18:53:50 GMT\n",
      "Source-Age: 0\n",
      "\n",
      "]\n",
      "[2024-04-10 00:18:51,502: INFO: main: >>>>>>>> stage Data Ingestion stage completed <<<<<<<<\n",
      "\n",
      "X=================X]\n",
      "[2024-04-10 00:18:51,502: INFO: main: >>>>>>>> stage Data Validation stage started <<<<<<<<]\n",
      "[2024-04-10 00:18:51,503: INFO: common: yaml file: config\\config.yaml loaded successfully.]\n",
      "[2024-04-10 00:18:51,503: INFO: common: yaml file: params.yaml loaded successfully.]\n",
      "[2024-04-10 00:18:51,505: INFO: common: yaml file: schema.yaml loaded successfully.]\n",
      "[2024-04-10 00:18:51,505: INFO: common: created directory at: artifacts]\n",
      "[2024-04-10 00:18:51,505: INFO: common: created directory at: artifacts/data_validation]\n",
      "[2024-04-10 00:18:51,511: INFO: main: >>>>>>>> stage Data Validation stage completed <<<<<<<<\n",
      "\n",
      "X=================X]\n",
      "[2024-04-10 00:18:51,511: INFO: main: >>>>>>>> stage Data Transformation stage started <<<<<<<<]\n",
      "[2024-04-10 00:18:51,513: ERROR: main: name 'e' is not defined]\n",
      "Traceback (most recent call last):\n",
      "  File \"d:\\crude_oil_price_prediction____color sketch\\crude_oil_price_prediction\\crude_oil_price_prediction\\src\\mlProject\\pipeline\\stage_03_data_transformation.py\", line 25, in main\n",
      "    raise Exception(\"Your data schema is not valid.\")\n",
      "Exception: Your data schema is not valid.\n",
      "\n",
      "During handling of the above exception, another exception occurred:\n",
      "\n",
      "Traceback (most recent call last):\n",
      "  File \"D:\\Crude_Oil_Price_Prediction____Color Sketch\\Crude_Oil_Price_Prediction\\crude_oil_price_prediction\\main.py\", line 40, in <module>\n",
      "    obj.main()\n",
      "  File \"d:\\crude_oil_price_prediction____color sketch\\crude_oil_price_prediction\\crude_oil_price_prediction\\src\\mlProject\\pipeline\\stage_03_data_transformation.py\", line 28, in main\n",
      "    raise e\n",
      "NameError: name 'e' is not defined\n"
     ]
    },
    {
     "name": "stderr",
     "output_type": "stream",
     "text": [
      "Traceback (most recent call last):\n",
      "  File \"d:\\crude_oil_price_prediction____color sketch\\crude_oil_price_prediction\\crude_oil_price_prediction\\src\\mlProject\\pipeline\\stage_03_data_transformation.py\", line 25, in main\n",
      "    raise Exception(\"Your data schema is not valid.\")\n",
      "Exception: Your data schema is not valid.\n",
      "\n",
      "During handling of the above exception, another exception occurred:\n",
      "\n",
      "Traceback (most recent call last):\n",
      "  File \"D:\\Crude_Oil_Price_Prediction____Color Sketch\\Crude_Oil_Price_Prediction\\crude_oil_price_prediction\\main.py\", line 44, in <module>\n",
      "    raise e\n",
      "  File \"D:\\Crude_Oil_Price_Prediction____Color Sketch\\Crude_Oil_Price_Prediction\\crude_oil_price_prediction\\main.py\", line 40, in <module>\n",
      "    obj.main()\n",
      "  File \"d:\\crude_oil_price_prediction____color sketch\\crude_oil_price_prediction\\crude_oil_price_prediction\\src\\mlProject\\pipeline\\stage_03_data_transformation.py\", line 28, in main\n",
      "    raise e\n",
      "NameError: name 'e' is not defined. Did you mean: 'es'?\n"
     ]
    }
   ],
   "source": [
    "!python main.py"
   ]
  },
  {
   "cell_type": "code",
   "execution_count": null,
   "id": "a27226b3-800e-4409-93b8-5958f399e9ea",
   "metadata": {},
   "outputs": [],
   "source": []
  }
 ],
 "metadata": {
  "kernelspec": {
   "display_name": "Python 3 (ipykernel)",
   "language": "python",
   "name": "python3"
  },
  "language_info": {
   "codemirror_mode": {
    "name": "ipython",
    "version": 3
   },
   "file_extension": ".py",
   "mimetype": "text/x-python",
   "name": "python",
   "nbconvert_exporter": "python",
   "pygments_lexer": "ipython3",
   "version": "3.10.11"
  }
 },
 "nbformat": 4,
 "nbformat_minor": 5
}
